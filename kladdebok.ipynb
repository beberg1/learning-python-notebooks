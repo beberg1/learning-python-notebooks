{
 "cells": [
  {
   "cell_type": "markdown",
   "metadata": {},
   "source": [
    "# Kladdebok"
   ]
  },
  {
   "cell_type": "markdown",
   "metadata": {},
   "source": [
    "## Kata: Highest and lowest\n",
    "\n",
    "high_and_low(\"1 2 3 4 5\")  # return \"5 1\"\n",
    "\n",
    "high_and_low(\"1 2 -3 4 5\") # return \"5 -3\"\n",
    "\n",
    "high_and_low(\"1 9 3 4 -5\") # return \"9 -5\"\n",
    "\n"
   ]
  },
  {
   "cell_type": "markdown",
   "metadata": {},
   "source": [
    "### SOLUTION:"
   ]
  },
  {
   "cell_type": "code",
   "execution_count": 18,
   "metadata": {},
   "outputs": [],
   "source": [
    "def high_and_low(numbers):\n",
    "    return \"{} {}\".format(max(map(int,numbers.split())), min(map(int,numbers.split())))"
   ]
  },
  {
   "cell_type": "markdown",
   "metadata": {},
   "source": [
    "### ===================================================="
   ]
  },
  {
   "cell_type": "code",
   "execution_count": 19,
   "metadata": {},
   "outputs": [
    {
     "data": {
      "text/plain": [
       "'5 1'"
      ]
     },
     "execution_count": 19,
     "metadata": {},
     "output_type": "execute_result"
    }
   ],
   "source": [
    "high_and_low(\"1 2 3 4 5\")"
   ]
  },
  {
   "cell_type": "code",
   "execution_count": 20,
   "metadata": {},
   "outputs": [
    {
     "data": {
      "text/plain": [
       "'5 -3'"
      ]
     },
     "execution_count": 20,
     "metadata": {},
     "output_type": "execute_result"
    }
   ],
   "source": [
    "high_and_low(\"1 2 -3 4 5\")"
   ]
  },
  {
   "cell_type": "code",
   "execution_count": 4,
   "metadata": {},
   "outputs": [
    {
     "data": {
      "text/plain": [
       "'9 -5'"
      ]
     },
     "execution_count": 4,
     "metadata": {},
     "output_type": "execute_result"
    }
   ],
   "source": [
    "high_and_low(\"1 9 3 4 -5\")"
   ]
  },
  {
   "cell_type": "code",
   "execution_count": 21,
   "metadata": {},
   "outputs": [
    {
     "data": {
      "text/plain": [
       "'3080 50'"
      ]
     },
     "execution_count": 21,
     "metadata": {},
     "output_type": "execute_result"
    }
   ],
   "source": [
    "high_and_low(\"339 215 2407 2702 2765 301 1103 59 91 692 2924 3080 2268 2823 1844 1802 50 1491 965 2258 460 1947\")"
   ]
  },
  {
   "cell_type": "code",
   "execution_count": 7,
   "metadata": {},
   "outputs": [],
   "source": [
    "ntest = \"339 215 2407 2702 2765 301 1103 59 91 692 2924 3080 2268 2823 1844 1802 50 1491 965 2258 460 1947\""
   ]
  },
  {
   "cell_type": "code",
   "execution_count": 8,
   "metadata": {},
   "outputs": [
    {
     "data": {
      "text/plain": [
       "['339',\n",
       " '215',\n",
       " '2407',\n",
       " '2702',\n",
       " '2765',\n",
       " '301',\n",
       " '1103',\n",
       " '59',\n",
       " '91',\n",
       " '692',\n",
       " '2924',\n",
       " '3080',\n",
       " '2268',\n",
       " '2823',\n",
       " '1844',\n",
       " '1802',\n",
       " '50',\n",
       " '1491',\n",
       " '965',\n",
       " '2258',\n",
       " '460',\n",
       " '1947']"
      ]
     },
     "execution_count": 8,
     "metadata": {},
     "output_type": "execute_result"
    }
   ],
   "source": [
    "ntest.split()"
   ]
  },
  {
   "cell_type": "code",
   "execution_count": 9,
   "metadata": {},
   "outputs": [
    {
     "data": {
      "text/plain": [
       "'965'"
      ]
     },
     "execution_count": 9,
     "metadata": {},
     "output_type": "execute_result"
    }
   ],
   "source": [
    "max(ntest.split())"
   ]
  },
  {
   "cell_type": "code",
   "execution_count": 14,
   "metadata": {},
   "outputs": [],
   "source": [
    "A = map(int, ntest.split())"
   ]
  },
  {
   "cell_type": "code",
   "execution_count": 15,
   "metadata": {},
   "outputs": [
    {
     "data": {
      "text/plain": [
       "<map at 0x1f9733ba390>"
      ]
     },
     "execution_count": 15,
     "metadata": {},
     "output_type": "execute_result"
    }
   ],
   "source": [
    "A"
   ]
  },
  {
   "cell_type": "code",
   "execution_count": 16,
   "metadata": {},
   "outputs": [
    {
     "data": {
      "text/plain": [
       "3080"
      ]
     },
     "execution_count": 16,
     "metadata": {},
     "output_type": "execute_result"
    }
   ],
   "source": [
    "max(A)"
   ]
  },
  {
   "cell_type": "markdown",
   "metadata": {},
   "source": [
    "## Kata: Friend or Foe?\n",
    "\n",
    "Make a program that filters a list of strings and returns a list with only your friends name in it.\n",
    "\n",
    "If a name has exactly 4 letters in it, you can be sure that it has to be a friend of yours! Otherwise, you can be sure he's not...\n",
    "\n",
    "Ex: Input = [\"Ryan\", \"Kieran\", \"Jason\", \"Yous\"], Output = [\"Ryan\", \"Yous\"]"
   ]
  },
  {
   "cell_type": "markdown",
   "metadata": {},
   "source": [
    "### SOLUTION:"
   ]
  },
  {
   "cell_type": "code",
   "execution_count": 22,
   "metadata": {},
   "outputs": [],
   "source": [
    "def friend(x):\n",
    "    return[name for name in x if len(name) == 4]"
   ]
  },
  {
   "cell_type": "markdown",
   "metadata": {},
   "source": [
    "### ======================================================="
   ]
  },
  {
   "cell_type": "code",
   "execution_count": 23,
   "metadata": {},
   "outputs": [
    {
     "data": {
      "text/plain": [
       "['Ryan', 'Yous']"
      ]
     },
     "execution_count": 23,
     "metadata": {},
     "output_type": "execute_result"
    }
   ],
   "source": [
    "friend([\"Ryan\", \"Kieran\", \"Jason\", \"Yous\"])"
   ]
  },
  {
   "cell_type": "markdown",
   "metadata": {},
   "source": [
    "## Kata: Growth of population"
   ]
  },
  {
   "cell_type": "markdown",
   "metadata": {},
   "source": [
    "Note: Don't forget to convert the percent parameter as a percentage in the body of your function: if the parameter percent is 2 you have to convert it to 0.02."
   ]
  },
  {
   "cell_type": "markdown",
   "metadata": {},
   "source": [
    "In a small town the population is p0 = 1000 at the beginning of a year. The population regularly increases by 2 percent per year and moreover 50 new inhabitants per year come to live in the town. How many years does the town need to see its population greater or equal to p = 1200 inhabitants?\n",
    "\n",
    "At the end of the first year there will be: \n",
    "1000 + 1000 * 0.02 + 50 => 1070 inhabitants\n",
    "\n",
    "At the end of the 2nd year there will be: \n",
    "1070 + 1070 * 0.02 + 50 => 1141 inhabitants (number of inhabitants is an integer)\n",
    "\n",
    "At the end of the 3rd year there will be:\n",
    "1141 + 1141 * 0.02 + 50 => 1213\n",
    "\n",
    "It will need 3 entire years.\n",
    "More generally given parameters:\n",
    "\n",
    "p0, percent, aug (inhabitants coming or leaving each year), p (population to surpass)\n",
    "\n",
    "the function nb_year should return n number of entire years needed to get a population greater or equal to p.\n",
    "\n",
    "aug is an integer, percent a positive or null number, p0 and p are positive integers (> 0)\n",
    "\n",
    "Examples:\n",
    "nb_year(1500, 5, 100, 5000) -> 15\n",
    "nb_year(1500000, 2.5, 10000, 2000000) -> 10\n",
    "Note: Don't forget to convert the percent parameter as a percentage in the body of your function: if the parameter percent is 2 you have to convert it to 0.02."
   ]
  },
  {
   "cell_type": "markdown",
   "metadata": {},
   "source": [
    "## Solution:"
   ]
  },
  {
   "cell_type": "code",
   "execution_count": 28,
   "metadata": {},
   "outputs": [],
   "source": [
    "# My solution\n",
    "def nb_year(p0, percent, aug, p):\n",
    "    pop = p0\n",
    "    n = 0\n",
    "    while pop < p:\n",
    "        pop = pop + pop * (percent/100) + aug\n",
    "        n += 1\n",
    "    return n\n",
    "\n",
    "# Best practice\n",
    "def nb_year(population, percent, aug, target):\n",
    "    year = 0\n",
    "    while population < target:\n",
    "        population += population * percent / 100. + aug\n",
    "        year += 1\n",
    "    return year\n",
    "        "
   ]
  },
  {
   "cell_type": "markdown",
   "metadata": {},
   "source": [
    "## ====================================="
   ]
  },
  {
   "cell_type": "code",
   "execution_count": 29,
   "metadata": {},
   "outputs": [
    {
     "data": {
      "text/plain": [
       "15"
      ]
     },
     "execution_count": 29,
     "metadata": {},
     "output_type": "execute_result"
    }
   ],
   "source": [
    "nb_year(1500, 5, 100, 5000)"
   ]
  },
  {
   "cell_type": "code",
   "execution_count": null,
   "metadata": {},
   "outputs": [],
   "source": []
  }
 ],
 "metadata": {
  "kernelspec": {
   "display_name": "Python 3",
   "language": "python",
   "name": "python3"
  },
  "language_info": {
   "codemirror_mode": {
    "name": "ipython",
    "version": 3
   },
   "file_extension": ".py",
   "mimetype": "text/x-python",
   "name": "python",
   "nbconvert_exporter": "python",
   "pygments_lexer": "ipython3",
   "version": "3.7.3"
  }
 },
 "nbformat": 4,
 "nbformat_minor": 2
}
