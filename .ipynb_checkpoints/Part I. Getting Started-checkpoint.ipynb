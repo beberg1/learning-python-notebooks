{
 "cells": [
  {
   "cell_type": "markdown",
   "metadata": {},
   "source": [
    "# 1 A Python Q&A Session"
   ]
  },
  {
   "cell_type": "markdown",
   "metadata": {},
   "source": [
    "**Why Do People Use Python?** \n",
    "- Software qualit\n",
    "    Readability, deep support for software reuse - OOP and FP\n",
    "- Developer Productivity\n",
    "- Support libraries\n",
    "- Component integration\n",
    "- Enjoyment\n",
    "\n",
    "**Python is a general-purpose programming language that blends procedural, functional, and object-oriented paradigms**\n",
    "- Control language: Python's simplicity makes it a naturally flexible control tool\n",
    "- The main downside is that the execution speed may not always be as fast as that of fully compiled lower-lever langugages such as C and C++. Whether you will care about such depends on your usage of the programming language.\n",
    "    - Even in domains that require optimal speed Python can still be used. -> Split of the parts that require optimal speed in compiled extensions\n",
    "- Python has been around for over two decades: stable and robust\n",
    "- Examples of current usage of Python: Google web search, YouTube, Dropbox, Eve Online, BitTorrent ..\n",
    "- Python's roles is virtually unlimited - general-purpose programming language\n",
    "\n"
   ]
  },
  {
   "cell_type": "code",
   "execution_count": 1,
   "metadata": {},
   "outputs": [
    {
     "name": "stdout",
     "output_type": "stream",
     "text": [
      "The Zen of Python, by Tim Peters\n",
      "\n",
      "Beautiful is better than ugly.\n",
      "Explicit is better than implicit.\n",
      "Simple is better than complex.\n",
      "Complex is better than complicated.\n",
      "Flat is better than nested.\n",
      "Sparse is better than dense.\n",
      "Readability counts.\n",
      "Special cases aren't special enough to break the rules.\n",
      "Although practicality beats purity.\n",
      "Errors should never pass silently.\n",
      "Unless explicitly silenced.\n",
      "In the face of ambiguity, refuse the temptation to guess.\n",
      "There should be one-- and preferably only one --obvious way to do it.\n",
      "Although that way may not be obvious at first unless you're Dutch.\n",
      "Now is better than never.\n",
      "Although never is often better than *right* now.\n",
      "If the implementation is hard to explain, it's a bad idea.\n",
      "If the implementation is easy to explain, it may be a good idea.\n",
      "Namespaces are one honking great idea -- let's do more of those!\n"
     ]
    }
   ],
   "source": [
    "import this"
   ]
  },
  {
   "cell_type": "markdown",
   "metadata": {},
   "source": [
    "**What Can I do with Python?**\n",
    "- Systems Programming\n",
    "- GUIs\n",
    "- Internet Scripting\n",
    "- Component Integration\n",
    "- Database Programming\n",
    "- Rapid Prototyping\n",
    "- Numeric and Scientific Programming\n",
    "\n",
    "**How is Python Developed and Supported?**\n",
    "- Python enjoys a large and active development community\n",
    "- Work coordinated online through a source-control system\n",
    "- Changes are developed per a formal protocol, which includes writing a PEP (Python Enhancement Proposal)\n",
    "- Conferences organized by PSF (Python Sofware Foundation)\n",
    "- TRADEOFFS: can resemble anarchy sometimes, open-source development driven by the few and imposed on the may, \n",
    "- In practice the trade-offs impact most the \"bleeding\" edge Python more than established versions of Python\n",
    "\n",
    "**What Are Python's Technical Strengths?**\n",
    "- It's Object-Oriented and Functional\n",
    "    - Support for advanced notions such as polymorphism, operator overloading, and multiple inheritance\n",
    "- OOP in Python is remarkably easy to apply. Python ideal for learning OOP for the first time.\n",
    "- OOP optional in Python\n",
    "- It's Free\n",
    "    - Open sourcecode\n",
    "- It's portable, runs on every major OS\n",
    "- It's powerful\n",
    "    - Dynamic typing\n",
    "    - Automatic memory management -> Python keeps track of low-level memory details so you won't have to\n",
    "    - Programming-in-the-large support -> Modules, classes, exceptions\n",
    "    - Built-in object types -> Commonly used data structures as intrinsic parts of the language\n",
    "    - Built-in tools\n",
    "    - Library Utilities\n",
    "    - Third-party utlities\n",
    "- It's mixable, easily \"glued\" with other languages\n",
    "- Relatively Easy to Use and Easy to Learn\n"
   ]
  },
  {
   "cell_type": "markdown",
   "metadata": {},
   "source": [
    "# 2 How Python Runs Programs"
   ]
  },
  {
   "cell_type": "code",
   "execution_count": null,
   "metadata": {},
   "outputs": [],
   "source": []
  }
 ],
 "metadata": {
  "kernelspec": {
   "display_name": "Python 3",
   "language": "python",
   "name": "python3"
  },
  "language_info": {
   "codemirror_mode": {
    "name": "ipython",
    "version": 3
   },
   "file_extension": ".py",
   "mimetype": "text/x-python",
   "name": "python",
   "nbconvert_exporter": "python",
   "pygments_lexer": "ipython3",
   "version": "3.7.3"
  }
 },
 "nbformat": 4,
 "nbformat_minor": 2
}
