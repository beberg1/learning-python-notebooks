{
 "cells": [
  {
   "cell_type": "markdown",
   "metadata": {},
   "source": [
    "# 1 A Python Q&A Session"
   ]
  },
  {
   "cell_type": "markdown",
   "metadata": {},
   "source": [
    "**Why Do People Use Python?** \n",
    "- Software qualit\n",
    "    Readability, deep support for software reuse - OOP and FP\n",
    "- Developer Productivity\n",
    "- Support libraries\n",
    "- Component integration\n",
    "- Enjoyment\n",
    "\n",
    "**Python is a general-purpose programming language that blends procedural, functional, and object-oriented paradigms**\n",
    "- Control language: Python's simplicity makes it a naturally flexible control tool\n",
    "- The main downside is that the execution speed may not always be as fast as that of fully compiled lower-lever langugages such as C and C++. Whether you will care about such depends on your usage of the programming language.\n",
    "    - Even in domains that require optimal speed Python can still be used. -> Split of the parts that require optimal speed in compiled extensions\n",
    "- Python has been around for over two decades: stable and robust\n",
    "- Examples of current usage of Python: Google web search, YouTube, Dropbox, Eve Online, BitTorrent ..\n",
    "- Python's roles is virtually unlimited - general-purpose programming language\n",
    "\n"
   ]
  },
  {
   "cell_type": "code",
   "execution_count": 1,
   "metadata": {},
   "outputs": [
    {
     "name": "stdout",
     "output_type": "stream",
     "text": [
      "The Zen of Python, by Tim Peters\n",
      "\n",
      "Beautiful is better than ugly.\n",
      "Explicit is better than implicit.\n",
      "Simple is better than complex.\n",
      "Complex is better than complicated.\n",
      "Flat is better than nested.\n",
      "Sparse is better than dense.\n",
      "Readability counts.\n",
      "Special cases aren't special enough to break the rules.\n",
      "Although practicality beats purity.\n",
      "Errors should never pass silently.\n",
      "Unless explicitly silenced.\n",
      "In the face of ambiguity, refuse the temptation to guess.\n",
      "There should be one-- and preferably only one --obvious way to do it.\n",
      "Although that way may not be obvious at first unless you're Dutch.\n",
      "Now is better than never.\n",
      "Although never is often better than *right* now.\n",
      "If the implementation is hard to explain, it's a bad idea.\n",
      "If the implementation is easy to explain, it may be a good idea.\n",
      "Namespaces are one honking great idea -- let's do more of those!\n"
     ]
    }
   ],
   "source": [
    "import this"
   ]
  },
  {
   "cell_type": "markdown",
   "metadata": {},
   "source": [
    "**What Can I do with Python?**\n",
    "- Systems Programming\n",
    "- GUIs\n",
    "- Internet Scripting\n",
    "- Component Integration\n",
    "- Database Programming\n",
    "- Rapid Prototyping\n",
    "- Numeric and Scientific Programming\n",
    "\n",
    "**How is Python Developed and Supported?**\n",
    "- Python enjoys a large and active development community\n",
    "- Work coordinated online through a source-control system\n",
    "- Changes are developed per a formal protocol, which includes writing a PEP (Python Enhancement Proposal)\n",
    "- Conferences organized by PSF (Python Sofware Foundation)\n",
    "- TRADEOFFS: can resemble anarchy sometimes, open-source development driven by the few and imposed on the may, \n",
    "- In practice the trade-offs impact most the \"bleeding\" edge Python more than established versions of Python\n",
    "\n",
    "**What Are Python's Technical Strengths?**\n",
    "- It's Object-Oriented and Functional\n",
    "    - Support for advanced notions such as polymorphism, operator overloading, and multiple inheritance\n",
    "- OOP in Python is remarkably easy to apply. Python ideal for learning OOP for the first time.\n",
    "- OOP optional in Python\n",
    "- It's Free\n",
    "    - Open sourcecode\n",
    "- It's portable, runs on every major OS\n",
    "- It's powerful\n",
    "    - Dynamic typing\n",
    "    - Automatic memory management -> Python keeps track of low-level memory details so you won't have to\n",
    "    - Programming-in-the-large support -> Modules, classes, exceptions\n",
    "    - Built-in object types -> Commonly used data structures as intrinsic parts of the language\n",
    "    - Built-in tools\n",
    "    - Library Utilities\n",
    "    - Third-party utlities\n",
    "- It's mixable, easily \"glued\" with other languages\n",
    "- Relatively Easy to Use and Easy to Learn\n"
   ]
  },
  {
   "cell_type": "markdown",
   "metadata": {},
   "source": [
    "# 2 How Python Runs Programs"
   ]
  },
  {
   "cell_type": "markdown",
   "metadata": {},
   "source": [
    "**The Programmer's View and The Interpreter's View**\n",
    "The Programmer's Wiew: A Python program in its simples form just a text file containing Python statements.\n",
    "Python program files by convention with *.py*-names. (Technically just required for files that are imported, however often used always for consistency)\n",
    "\n",
    "The Interpreter's View: More is going on \"under the hood\", internal processes that is almost completely hidden from the programmer. Python internally compiles the source-code to lower-level byte code at runtime, and saves them for later use (*.pyc*-files). These files are saved in a subdirectory called __pycache__. The reason behind the compilation is speed optimalization. Bytecode files are only saved for imported Python-files. \n",
    "\n",
    "**The Python Virtual Machine (PVM)**\n",
    "Python's traditional runtime execution model: source code you type is translated to byte code, which is then run by the Python Virtual Machine. Your code is automatically compiled, but then it is interpreted.\n",
    "\n",
    "The PVM really is just a big code loop that iterates through your byte code instructions - *the runtime engine of Python*. It is the last step of the *Python interpreter*. \n",
    "\n",
    "Bytecode require more work than pure CPU-instructions (machinecode). Python code therefore runs at speeds somewhere between those of a traditional compiled language and a traditional interpreted language.\n",
    "\n",
    "In Python, the compiler is always present at runtime and is a part of the system that runs. -> Much more rapid development cycle.\n",
    "\n",
    "However, this is just the *standard implementation* (CPython) of Python today, and is strictly not a requirement. It alreasy exists systems that modify the picure - Python Implementation Alternatives.\n",
    "\n",
    "- CPython: The standard\n",
    "- Jython: Python for Java\n",
    "    - targeted for integration with Java. Replaces standard Python compilation and PVM with Java-equivalents.\n",
    "- IronPython: Python for .NET\n",
    "    - very similar to Jython but for Microsoft's .NET Framework for Windows\n",
    "- Stackless: Python for concurrency\n",
    "- PyPy: Python for speed\n",
    "    - Adds one more compilation step for speed optimalization.\n",
    "\n",
    "**Frozen Binaries**\n",
    "Standalone binary exectables from Python programs - *true executables*. Really a bundle of Python byte code, the PVM and the Python support files your program needs.\n",
    "\n"
   ]
  },
  {
   "cell_type": "markdown",
   "metadata": {},
   "source": [
    "# Chapter Quiz\n",
    "\n",
    "\n",
    "**1. What is the Python interpreter?**\n",
    "\n",
    "The Python interpreter is the program that executes your program. It turns your Python source code first into lower-lever byte code, and then executes it within the PVM.\n",
    "\n",
    "**2. What is source code?**\n",
    "\n",
    "Source code is non-compiled pure Python code - a set of Python statements.\n",
    "\n",
    "**3. What is byte code?**\n",
    "\n",
    "Byte code is a lower lever language for Python code, created for speed optimalization.\n",
    "\n",
    "**4. What is the PVM?**\n",
    "\n",
    "The PVM is the Python Virtual Machine - the runtime engine of Python.\n",
    "\n",
    "**5. Name two or more variations on Python's standard execution model.**\n",
    "\n",
    "Jython, IronPython, PyPy ..\n",
    "\n",
    "**6. How are CPYthon, Jython and IronPython different?**\n",
    "\n",
    "CPython is the standard implementation of Python. Jython and Ironpython is customized implementations created for more seamless use with respectively Java and .NET.\n",
    "\n",
    "**7. What are Stackless and PyPy?**\n",
    "\n",
    "Stackless and PyPy are optimzed Python implementations for respectively concurrency and speed.\n"
   ]
  },
  {
   "cell_type": "markdown",
   "metadata": {},
   "source": [
    "# 3 How You Run Programs"
   ]
  },
  {
   "cell_type": "markdown",
   "metadata": {},
   "source": [
    "**The System Path**\n",
    "The *PATH* environment variable needs to include Python's install directary to use the python-commands in the termianl. -> APPENDIX A for setup\n"
   ]
  },
  {
   "cell_type": "markdown",
   "metadata": {},
   "source": [
    "**The Interactive Prompt** nice for experminenting and testing. You can for example import your own modules and test out parts of it."
   ]
  },
  {
   "cell_type": "code",
   "execution_count": 1,
   "metadata": {},
   "outputs": [
    {
     "data": {
      "text/plain": [
       "'/Users/beberg/Documents/Programming/learning-python-notebooks'"
      ]
     },
     "execution_count": 1,
     "metadata": {},
     "output_type": "execute_result"
    }
   ],
   "source": [
    "import os\n",
    "os.getcwd()"
   ]
  },
  {
   "cell_type": "code",
   "execution_count": 4,
   "metadata": {},
   "outputs": [
    {
     "data": {
      "text/plain": [
       "'darwin'"
      ]
     },
     "execution_count": 4,
     "metadata": {},
     "output_type": "execute_result"
    }
   ],
   "source": [
    "import sys\n",
    "sys.platform"
   ]
  },
  {
   "cell_type": "markdown",
   "metadata": {},
   "source": [
    "Save python code output in file:\n",
    "*python script.py > saveit.txt* (Stream redirection)"
   ]
  },
  {
   "cell_type": "markdown",
   "metadata": {},
   "source": [
    "**Module Imports and Reloads**\n",
    "Every file of Python code whose name ends in a *.py*-extension is a module (in simple terms). Files can be imported, a process which consists of loading another file and being grant acces to said files contents.\n",
    "\n",
    "This module-based services model is the core idea behind program architecture in Python. Imports can only be done once per session, and is an \"expensive\" operation. (File myust be found, compiled, and run) You can however force further imports with the reload function.\n",
    "\n",
    "The *from* statement copies a name out of a module. A modules. \n",
    "- A module is mostly just a package of variable names, known as a *namespace*\n",
    "- The names within the package are called *attributes*\n",
    "    - An attribute is a variable name that is attached to a specific object (e.g. a module)\n",
    "\n",
    "The dot expression syntax *object.attribute* lets you fetch any attribute attached to any object.\n",
    "\n",
    "As an alternative to importing a module and refering to an attribute with the dot expression syntax, you can fetch (really, copy) names out of a module with the *from* statement. The statements in the module file are executed with bot *from* and *import*.\n",
    "\n",
    "PAGE 70\n"
   ]
  },
  {
   "cell_type": "code",
   "execution_count": null,
   "metadata": {},
   "outputs": [],
   "source": []
  }
 ],
 "metadata": {
  "kernelspec": {
   "display_name": "Python 3",
   "language": "python",
   "name": "python3"
  },
  "language_info": {
   "codemirror_mode": {
    "name": "ipython",
    "version": 3
   },
   "file_extension": ".py",
   "mimetype": "text/x-python",
   "name": "python",
   "nbconvert_exporter": "python",
   "pygments_lexer": "ipython3",
   "version": "3.7.3"
  }
 },
 "nbformat": 4,
 "nbformat_minor": 2
}
