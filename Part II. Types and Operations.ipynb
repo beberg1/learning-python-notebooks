{
 "cells": [
  {
   "cell_type": "markdown",
   "metadata": {},
   "source": [
    "# 4 Introducing Python Object Types\n",
    "\n",
    "**Intro**\n",
    "Data takes the form of *objects* in Python. Objects are essentially just pieces of memory, with values and sets of associated operations.\n",
    "\n",
    "Objects are the most fundamental notion in Python. Python ships with built-in objects.\n",
    "\n",
    "**The Python Conceptual Hierarchy**\n",
    "Python programs can be decomposed into modules, statements, expressions, and objects.\n",
    "1. Programs are composed of modules.\n",
    "2. Modules contain statements.\n",
    "3. Statements contain expressions.\n",
    "4. Expressions create and process objects.\n",
    "\n",
    "Built-in types a mandatory exploration for all Python journeys. We will later be both using and emulating built-in object types to create our own objects with OOP (object-oriented programming). \n",
    "\n",
    "In lower-level languages such as C or C++ you need to lay out memory structures, manage memory allocation, etc. when implementing objects. In typical Python programming you don't have to worry about that. Python provides powerful object types as an intrinsic part of the language.\n",
    "\n",
    "**Why Use Built-in Types?**\n",
    "- Built-in objects make programs easier to write.\n",
    "- Built-in objects are components of extensions. (For example a stack data structure may be implemted as a class that manages or customizes a built-in list)\n",
    "- Built-in objects are often more efficient than custom data structures.\n",
    "- Built-in objects are a standard part of the language. \n",
    "\n",
    "Built-in objects form the core of all Python programs.\n",
    "\n",
    "**Python's Core Data Types**\n",
    "Literals: An expression whose syntax generates an object.\n",
    "\n",
    "Built-in objects:\n",
    "- Numbers\n",
    "- Strings\n",
    "- Lists\n",
    "- Dictionaries\n",
    "- Tuples\n",
    "- Files \n",
    "- Sets\n",
    "- Other core types: Booleans, types, None\n",
    "- Program unit types: Functions, modules classes\n",
    "- Implemtation-related types: Compiled code, stack tracebacks\n",
    "\n",
    "However, this list isn't really complete, as *everything* we process in Python is some kind of object.\n",
    "\n",
    "Once you create an object, you bind its operation set for all time. (e.g. you can only perfrom string operations on a string). Python is *dynamically typed*, a model that keeps track of types for you automatically instead of requiring declaration code. \n",
    "\n",
    "**Numbers**\n",
    "\n",
    "Fairly straight-forward, automatically provides extra precision for large numbers. "
   ]
  },
  {
   "cell_type": "code",
   "execution_count": 3,
   "metadata": {},
   "outputs": [
    {
     "data": {
      "text/plain": [
       "6.283"
      ]
     },
     "execution_count": 3,
     "metadata": {},
     "output_type": "execute_result"
    }
   ],
   "source": [
    "3.1415*2"
   ]
  },
  {
   "cell_type": "markdown",
   "metadata": {},
   "source": [
    "Two formats for display: as-code *repr* and the more user-friendly *str*"
   ]
  },
  {
   "cell_type": "code",
   "execution_count": 4,
   "metadata": {},
   "outputs": [
    {
     "data": {
      "text/plain": [
       "3.141592653589793"
      ]
     },
     "execution_count": 4,
     "metadata": {},
     "output_type": "execute_result"
    }
   ],
   "source": [
    "#Handful of useful numeric modules that ships with Python as well\n",
    "import math\n",
    "math.pi"
   ]
  },
  {
   "cell_type": "code",
   "execution_count": 12,
   "metadata": {},
   "outputs": [
    {
     "name": "stdout",
     "output_type": "stream",
     "text": [
      "0.13773440822914507\n",
      "3\n"
     ]
    }
   ],
   "source": [
    "import random\n",
    "print(random.random())\n",
    "print(random.choice([1,2,3,4]))"
   ]
  },
  {
   "cell_type": "markdown",
   "metadata": {},
   "source": [
    "**Strings**\n",
    "\n",
    "Strings are used to record both textual information as well as arbitrary collections of bytes (an image for instance)\n",
    "The first example of what in Python we call a *sequence*\n",
    "-> A positionally ordered collection of other objects"
   ]
  },
  {
   "cell_type": "code",
   "execution_count": 19,
   "metadata": {},
   "outputs": [
    {
     "name": "stdout",
     "output_type": "stream",
     "text": [
      "4\n",
      "S\n",
      "p\n",
      "m\n",
      "m\n",
      "a\n"
     ]
    }
   ],
   "source": [
    "S = 'Spam'\n",
    "print(len(S))\n",
    "print(S[0])\n",
    "print(S[1])\n",
    "print(S[-1])  # the same as the one below\n",
    "print(S[len(S)-1])\n",
    "print(S[-2])"
   ]
  },
  {
   "cell_type": "markdown",
   "metadata": {},
   "source": [
    "Anywhere that Python expects a value, we can use a literal, a variable, or any expression we wich."
   ]
  },
  {
   "cell_type": "code",
   "execution_count": 20,
   "metadata": {},
   "outputs": [
    {
     "name": "stdout",
     "output_type": "stream",
     "text": [
      "Spam\n",
      "pa\n"
     ]
    }
   ],
   "source": [
    "print(S)\n",
    "print(S[1:3]) # Slice from and including 1 to 3."
   ]
  },
  {
   "cell_type": "markdown",
   "metadata": {},
   "source": [
    "In a slice, the left bound defaults to zero, and the right bound defaults to the length of the sequence being sliced."
   ]
  },
  {
   "cell_type": "code",
   "execution_count": 23,
   "metadata": {},
   "outputs": [
    {
     "name": "stdout",
     "output_type": "stream",
     "text": [
      "pam\n",
      "Spam\n",
      "Spa\n"
     ]
    }
   ],
   "source": [
    "print(S[1:]) # Same as (1:len(S))\n",
    "print(S) \n",
    "print(S[0:3])"
   ]
  },
  {
   "cell_type": "code",
   "execution_count": 24,
   "metadata": {},
   "outputs": [
    {
     "data": {
      "text/plain": [
       "'Spamxyz'"
      ]
     },
     "execution_count": 24,
     "metadata": {},
     "output_type": "execute_result"
    }
   ],
   "source": [
    "S + 'xyz' # Concatenation"
   ]
  },
  {
   "cell_type": "code",
   "execution_count": 25,
   "metadata": {},
   "outputs": [
    {
     "data": {
      "text/plain": [
       "'SpamSpamSpamSpamSpamSpamSpamSpam'"
      ]
     },
     "execution_count": 25,
     "metadata": {},
     "output_type": "execute_result"
    }
   ],
   "source": [
    "S * 8 # Repetition"
   ]
  },
  {
   "cell_type": "markdown",
   "metadata": {},
   "source": [
    "*Polymorphism*: The meaning of an operation depends on the objects being operated on.\n",
    "\n",
    "Immutable objects: Objects that cannot be changed in place.\n",
    "\n",
    "-> You can use expressions to create new immutable objects with the same name. (to \"change\" an immutable object) However not that efficiently.\n",
    "\n",
    "Among other things immutability can be used in Python to guarantee that an object remains constant throughout the program.\n",
    "\n",
    "It exists a data type for text-based data that is a sort of hybrid between immutable and mutable called the *bytearray*. The bytearray is mutable as long as the characters are at least 8 bits wide (e.g., ASCII) \n",
    "\n",
    "You can also change text-based data in place if you expand it to a list, and then join it back together to a string.\n",
    "\n"
   ]
  },
  {
   "cell_type": "code",
   "execution_count": 26,
   "metadata": {},
   "outputs": [
    {
     "data": {
      "text/plain": [
       "['s', 'h', 'r', 'u', 'b', 'b', 'e', 'r', 'y']"
      ]
     },
     "execution_count": 26,
     "metadata": {},
     "output_type": "execute_result"
    }
   ],
   "source": [
    "S = 'shrubbery'\n",
    "L = list(S)\n",
    "L"
   ]
  },
  {
   "cell_type": "code",
   "execution_count": 28,
   "metadata": {},
   "outputs": [],
   "source": [
    "L[1] = 'c'"
   ]
  },
  {
   "cell_type": "code",
   "execution_count": 29,
   "metadata": {},
   "outputs": [
    {
     "data": {
      "text/plain": [
       "'scrubbery'"
      ]
     },
     "execution_count": 29,
     "metadata": {},
     "output_type": "execute_result"
    }
   ],
   "source": [
    "''.join(L)"
   ]
  },
  {
   "cell_type": "code",
   "execution_count": 30,
   "metadata": {},
   "outputs": [],
   "source": [
    "B = bytearray(b'spam')"
   ]
  },
  {
   "cell_type": "code",
   "execution_count": 31,
   "metadata": {},
   "outputs": [],
   "source": [
    "B.extend(b'eggs')"
   ]
  },
  {
   "cell_type": "code",
   "execution_count": 32,
   "metadata": {},
   "outputs": [
    {
     "data": {
      "text/plain": [
       "bytearray(b'spameggs')"
      ]
     },
     "execution_count": 32,
     "metadata": {},
     "output_type": "execute_result"
    }
   ],
   "source": [
    "B"
   ]
  },
  {
   "cell_type": "code",
   "execution_count": 33,
   "metadata": {},
   "outputs": [
    {
     "data": {
      "text/plain": [
       "'spameggs'"
      ]
     },
     "execution_count": 33,
     "metadata": {},
     "output_type": "execute_result"
    }
   ],
   "source": [
    "B.decode()"
   ]
  },
  {
   "cell_type": "markdown",
   "metadata": {},
   "source": [
    "You can use generic sequence operations on strings, because strings are sequences. You can however also use *type-specific methods*. Methods are functions that are attached to and act upon a specific object."
   ]
  },
  {
   "cell_type": "code",
   "execution_count": 35,
   "metadata": {},
   "outputs": [
    {
     "data": {
      "text/plain": [
       "['__add__',\n",
       " '__class__',\n",
       " '__contains__',\n",
       " '__delattr__',\n",
       " '__dir__',\n",
       " '__doc__',\n",
       " '__eq__',\n",
       " '__format__',\n",
       " '__ge__',\n",
       " '__getattribute__',\n",
       " '__getitem__',\n",
       " '__getnewargs__',\n",
       " '__gt__',\n",
       " '__hash__',\n",
       " '__init__',\n",
       " '__init_subclass__',\n",
       " '__iter__',\n",
       " '__le__',\n",
       " '__len__',\n",
       " '__lt__',\n",
       " '__mod__',\n",
       " '__mul__',\n",
       " '__ne__',\n",
       " '__new__',\n",
       " '__reduce__',\n",
       " '__reduce_ex__',\n",
       " '__repr__',\n",
       " '__rmod__',\n",
       " '__rmul__',\n",
       " '__setattr__',\n",
       " '__sizeof__',\n",
       " '__str__',\n",
       " '__subclasshook__',\n",
       " 'capitalize',\n",
       " 'casefold',\n",
       " 'center',\n",
       " 'count',\n",
       " 'encode',\n",
       " 'endswith',\n",
       " 'expandtabs',\n",
       " 'find',\n",
       " 'format',\n",
       " 'format_map',\n",
       " 'index',\n",
       " 'isalnum',\n",
       " 'isalpha',\n",
       " 'isascii',\n",
       " 'isdecimal',\n",
       " 'isdigit',\n",
       " 'isidentifier',\n",
       " 'islower',\n",
       " 'isnumeric',\n",
       " 'isprintable',\n",
       " 'isspace',\n",
       " 'istitle',\n",
       " 'isupper',\n",
       " 'join',\n",
       " 'ljust',\n",
       " 'lower',\n",
       " 'lstrip',\n",
       " 'maketrans',\n",
       " 'partition',\n",
       " 'replace',\n",
       " 'rfind',\n",
       " 'rindex',\n",
       " 'rjust',\n",
       " 'rpartition',\n",
       " 'rsplit',\n",
       " 'rstrip',\n",
       " 'split',\n",
       " 'splitlines',\n",
       " 'startswith',\n",
       " 'strip',\n",
       " 'swapcase',\n",
       " 'title',\n",
       " 'translate',\n",
       " 'upper',\n",
       " 'zfill']"
      ]
     },
     "execution_count": 35,
     "metadata": {},
     "output_type": "execute_result"
    }
   ],
   "source": [
    "dir('') # dir() can be used to show a list of all available methods attached to an object"
   ]
  },
  {
   "cell_type": "code",
   "execution_count": 36,
   "metadata": {},
   "outputs": [
    {
     "data": {
      "text/plain": [
       "1"
      ]
     },
     "execution_count": 36,
     "metadata": {},
     "output_type": "execute_result"
    }
   ],
   "source": [
    "S = 'spam'\n",
    "S.find('pa')"
   ]
  },
  {
   "cell_type": "code",
   "execution_count": 39,
   "metadata": {},
   "outputs": [
    {
     "data": {
      "text/plain": [
       "'sXYZm'"
      ]
     },
     "execution_count": 39,
     "metadata": {},
     "output_type": "execute_result"
    }
   ],
   "source": [
    "S.replace('pa','XYZ') # Returns a NEW string object where some characters has been \"replaced\""
   ]
  },
  {
   "cell_type": "markdown",
   "metadata": {},
   "source": [
    "S"
   ]
  },
  {
   "cell_type": "markdown",
   "metadata": {},
   "source": [
    "P 102"
   ]
  },
  {
   "cell_type": "code",
   "execution_count": null,
   "metadata": {},
   "outputs": [],
   "source": []
  }
 ],
 "metadata": {
  "kernelspec": {
   "display_name": "Python 3",
   "language": "python",
   "name": "python3"
  },
  "language_info": {
   "codemirror_mode": {
    "name": "ipython",
    "version": 3
   },
   "file_extension": ".py",
   "mimetype": "text/x-python",
   "name": "python",
   "nbconvert_exporter": "python",
   "pygments_lexer": "ipython3",
   "version": "3.7.3"
  }
 },
 "nbformat": 4,
 "nbformat_minor": 2
}
