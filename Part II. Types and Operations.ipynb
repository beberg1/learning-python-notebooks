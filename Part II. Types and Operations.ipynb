{
 "cells": [
  {
   "cell_type": "markdown",
   "metadata": {},
   "source": [
    "# 4 Introducing Python Object Types\n",
    "\n",
    "**Intro**\n",
    "Data takes the form of *objects* in Python. Objects are essentially just pieces of memory, with values and sets of associated operations.\n",
    "\n",
    "Objects are the most fundamental notion in Python. Python ships with built-in objects.\n",
    "\n",
    "**The Python Conceptual Hierarchy**\n",
    "Python programs can be decomposed into modules, statements, expressions, and objects.\n",
    "1. Programs are composed of modules.\n",
    "2. Modules contain statements.\n",
    "3. Statements contain expressions.\n",
    "4. Expressions create and process objects.\n",
    "\n",
    "\n",
    "\n"
   ]
  },
  {
   "cell_type": "code",
   "execution_count": null,
   "metadata": {},
   "outputs": [],
   "source": []
  }
 ],
 "metadata": {
  "kernelspec": {
   "display_name": "Python 3",
   "language": "python",
   "name": "python3"
  },
  "language_info": {
   "codemirror_mode": {
    "name": "ipython",
    "version": 3
   },
   "file_extension": ".py",
   "mimetype": "text/x-python",
   "name": "python",
   "nbconvert_exporter": "python",
   "pygments_lexer": "ipython3",
   "version": "3.7.3"
  }
 },
 "nbformat": 4,
 "nbformat_minor": 2
}
